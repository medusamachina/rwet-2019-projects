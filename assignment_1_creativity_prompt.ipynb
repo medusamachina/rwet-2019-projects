{
 "cells": [
  {
   "cell_type": "markdown",
   "metadata": {},
   "source": [
    "\"Answers\" are 50 cards pulled randomly from \"Oblique Strategies\" by Brian Eno & Peter Schmidt (https://www.enoshop.co.uk/product/oblique-strategies.html)"
   ]
  },
  {
   "cell_type": "code",
   "execution_count": 7,
   "metadata": {},
   "outputs": [],
   "source": [
    "import random"
   ]
  },
  {
   "cell_type": "code",
   "execution_count": 1,
   "metadata": {},
   "outputs": [],
   "source": [
    "questions = [\n",
    "    'How do i convince myself to sew something?',\n",
    "    'What can I bring to the Trevors table?',\n",
    "    'What small act of psychic protection can I take before phoning the loan people?'\n",
    "    'Why do ideas rest at the tip of the tongue?',\n",
    "    'This one is for Jodorowsky',\n",
    "    'How do I encourage myself to create more in my spare time?',\n",
    "    'If not facts, then what?',\n",
    "    'Give me a line to use when I\\'m scared to leap?',\n",
    "    'Is this the year I start praying again?',\n",
    "]"
   ]
  },
  {
   "cell_type": "code",
   "execution_count": 2,
   "metadata": {},
   "outputs": [],
   "source": [
    "answers = [\n",
    "    'humanize something free of error',\n",
    "    'turn it upside down',\n",
    "    'is it finished?',\n",
    "    'don\\'t stress one thing more than another',\n",
    "    'Emphasize differences',\n",
    "    'In total darkness of in a very large room, very quietly',\n",
    "    'Only a part, not the whole',\n",
    "    'Use \\'unqualified\\' people',\n",
    "    'What would your closest friend do?',\n",
    "    'Which elements can be grouped?',\n",
    "    'Repitition is a form of change',\n",
    "    'Remove ambiguities and convert to specifics',\n",
    "    'Do we need holes?',\n",
    "    'Would anybody want it?',\n",
    "    'The inconsistency principle',\n",
    "    'Trust in the you of now',\n",
    "    'You are an engineer',\n",
    "    'Think: Inside the work, outside the work',\n",
    "    'Voice nagging suspicions',\n",
    "    'Make it more sensual',\n",
    "    'Water',\n",
    "    'What mistakes did you make last time?',\n",
    "    'Remember .those quiet evenings',\n",
    "    'Listen to the quiet voice',\n",
    "    'Just carry on',\n",
    "    'Reverse',\n",
    "    'Take a break',\n",
    "    'Make an exhaustive list of everything you might do and do the last thing on the list',\n",
    "    'Make something implied more definite. Reinforce, duplicate',\n",
    "    'What to increase? What to reduce',\n",
    "    'Take away the elements in order of apparent non importance',\n",
    "    'State the problem in words as clearly as possible',\n",
    "    'Do nothing for as long as possible',\n",
    "    'Destroy: nothing, the most important thing',\n",
    "    'Abandon normal instruments',\n",
    "    'Acccept advice',\n",
    "    'Courage!',\n",
    "    'Emphasize the flaws',\n",
    "    'When is it for?',\n",
    "    'Disconnect from desire',\n",
    "    'Distorting time',\n",
    "    'Faced with a choice do both',\n",
    "    'Use filters',\n",
    "    'Accredation',\n",
    "    'Look at the order in which you do things',\n",
    "    'Remove specifics and convert to ambiguities',\n",
    "    'Short circuit',\n",
    "    'Use an unacceptable colour',\n",
    "    'Do the words need changing?',\n",
    "    'Ask your body'\n",
    "]"
   ]
  },
  {
   "cell_type": "code",
   "execution_count": 14,
   "metadata": {},
   "outputs": [],
   "source": [
    "draw_again = [\n",
    "    'yes',\n",
    "    'no'\n",
    "]\n",
    "\n",
    "'yes' == 'true'"
   ]
  },
  {
   "cell_type": "code",
   "execution_count": 15,
   "metadata": {},
   "outputs": [],
   "source": [
    "action = [\n",
    "    'ignore',\n",
    "    'adhere to',\n",
    "    'consider',\n",
    "    'destroy',\n",
    "    'complete',\n",
    "    'execute',\n",
    "    'reverse',\n",
    "    'digest',\n",
    "    'deform',\n",
    "    'perform',\n",
    "    'write about',\n",
    "    'cultivate',\n",
    "    'expand',\n",
    "    'shove'\n",
    "]"
   ]
  },
  {
   "cell_type": "code",
   "execution_count": 63,
   "metadata": {},
   "outputs": [],
   "source": [
    "exercise = [\n",
    "    'writing it down, chewing it up, and spitting it out',\n",
    "    'repeating it while running around the block',\n",
    "    'recording a 1 minute song about it',\n",
    "    'writing a poem about it',\n",
    "    'using it as your next instagram post caption',\n",
    "    \n",
    "]"
   ]
  },
  {
   "cell_type": "code",
   "execution_count": 74,
   "metadata": {},
   "outputs": [
    {
     "name": "stdout",
     "output_type": "stream",
     "text": [
      "question: This one is for Jodorowsky\n",
      "strategy: Use 'unqualified' people\n",
      "draw again? yes\n",
      "new strategy: What mistakes did you make last time?\n",
      "\n",
      "you should perform this strategy by writing a poem about it\n"
     ]
    }
   ],
   "source": [
    "print(\"question:\" + \" \" + random.choice(questions))\n",
    "print(\"strategy:\" + \" \" + random.choice(answers))\n",
    "response = random.choice(draw_again)\n",
    "print(\"draw again?\" + \" \" + response)\n",
    "if response == 'yes':\n",
    "    print(\"new strategy:\" + \" \" + random.choice(answers))\n",
    "    print()\n",
    "else: \n",
    "    print()\n",
    "        \n",
    "print(\"you should\" + \" \" + random.choice(action) + \" \" + \"this strategy by\" + \" \" + random.choice(exercise)) \n",
    "    "
   ]
  }
 ],
 "metadata": {
  "kernelspec": {
   "display_name": "Python 3",
   "language": "python",
   "name": "python3"
  },
  "language_info": {
   "codemirror_mode": {
    "name": "ipython",
    "version": 3
   },
   "file_extension": ".py",
   "mimetype": "text/x-python",
   "name": "python",
   "nbconvert_exporter": "python",
   "pygments_lexer": "ipython3",
   "version": "3.7.1"
  }
 },
 "nbformat": 4,
 "nbformat_minor": 2
}
