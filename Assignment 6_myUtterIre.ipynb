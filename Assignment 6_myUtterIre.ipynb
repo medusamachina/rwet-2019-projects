{
 "cells": [
  {
   "cell_type": "markdown",
   "metadata": {},
   "source": [
    "Text: Feminism and Sex-Extinction by Arabella Kenealy"
   ]
  },
  {
   "cell_type": "code",
   "execution_count": 2,
   "metadata": {},
   "outputs": [],
   "source": [
    "import annoy"
   ]
  },
  {
   "cell_type": "code",
   "execution_count": 5,
   "metadata": {},
   "outputs": [],
   "source": [
    "def vec(s):\n",
    "    return nlp.vocab[s].vector"
   ]
  },
  {
   "cell_type": "code",
   "execution_count": 15,
   "metadata": {},
   "outputs": [],
   "source": [
    "import random\n",
    "from collections import defaultdict\n",
    "import numpy as np\n",
    "import spacy\n",
    "from simpleneighbors import SimpleNeighbors"
   ]
  },
  {
   "cell_type": "code",
   "execution_count": 16,
   "metadata": {},
   "outputs": [],
   "source": [
    "nlp = spacy.load('en_core_web_md')"
   ]
  },
  {
   "cell_type": "code",
   "execution_count": 17,
   "metadata": {},
   "outputs": [],
   "source": [
    "lookup = SimpleNeighbors(300)\n",
    "for item in nlp.vocab:\n",
    "    if item.has_vector and item.prob > -15 and item.is_lower:\n",
    "        lookup.add_one(item.text, item.vector)\n",
    "lookup.build()"
   ]
  },
  {
   "cell_type": "code",
   "execution_count": 18,
   "metadata": {},
   "outputs": [],
   "source": [
    "from itertools import islice\n",
    "import random"
   ]
  },
  {
   "cell_type": "code",
   "execution_count": 20,
   "metadata": {},
   "outputs": [],
   "source": [
    "qualified = [item for item in nlp.vocab if item.has_vector and item.is_alpha]"
   ]
  },
  {
   "cell_type": "code",
   "execution_count": 21,
   "metadata": {},
   "outputs": [
    {
     "data": {
      "text/plain": [
       "True"
      ]
     },
     "execution_count": 21,
     "metadata": {},
     "output_type": "execute_result"
    }
   ],
   "source": [
    "lexmap = []\n",
    "t = annoy.AnnoyIndex(300)\n",
    "for i, item in enumerate(islice(sorted(qualified, key=lambda x: x.prob, reverse=True), 100000)):\n",
    "    t.add_item(i, item.vector)\n",
    "    lexmap.append(item)\n",
    "t.build(25)"
   ]
  },
  {
   "cell_type": "code",
   "execution_count": 22,
   "metadata": {},
   "outputs": [
    {
     "data": {
      "text/plain": [
       "['pent',\n",
       " 'fury',\n",
       " 'unleashed',\n",
       " 'seething',\n",
       " 'ferocity',\n",
       " 'anger',\n",
       " 'raging',\n",
       " 'raged',\n",
       " 'rages',\n",
       " 'roaring',\n",
       " 'engulfing',\n",
       " 'frustration',\n",
       " 'frustrations',\n",
       " 'dissatisfaction',\n",
       " 'impatience',\n",
       " 'madness',\n",
       " 'mayhem',\n",
       " 'angry',\n",
       " 'irate',\n",
       " 'vengeance',\n",
       " 'bloodlust',\n",
       " 'avenging',\n",
       " 'warpath',\n",
       " 'vengence',\n",
       " 'jealousy',\n",
       " 'jealously',\n",
       " 'possessiveness',\n",
       " 'wrath',\n",
       " 'brimstone',\n",
       " 'wrathful',\n",
       " 'outrage',\n",
       " 'outcry',\n",
       " 'uproar',\n",
       " 'ire',\n",
       " 'indignation',\n",
       " 'furor',\n",
       " 'furious',\n",
       " 'frantic',\n",
       " 'fuming',\n",
       " 'despair',\n",
       " 'gloom',\n",
       " 'wallow',\n",
       " 'lament',\n",
       " 'hopelessness',\n",
       " 'helplessness',\n",
       " 'desolation',\n",
       " 'discouragement',\n",
       " 'worthlessness',\n",
       " 'lamentation',\n",
       " 'weariness']"
      ]
     },
     "execution_count": 22,
     "metadata": {},
     "output_type": "execute_result"
    }
   ],
   "source": [
    "def similarsemantic(t, nlp, word, n):\n",
    "    seen = set()\n",
    "    count = 0\n",
    "    for i in t.get_nns_by_vector(nlp.vocab[word].vector, 100):\n",
    "        this_word = lexmap[i].orth_.lower()\n",
    "        if this_word not in seen and word != this_word:\n",
    "            seen.add(this_word)\n",
    "            count += 1\n",
    "            yield this_word\n",
    "            if count >= n:\n",
    "                break\n",
    "rage = list(similarsemantic(t, nlp, \"rage\", 50))\n",
    "rage"
   ]
  },
  {
   "cell_type": "code",
   "execution_count": 23,
   "metadata": {},
   "outputs": [
    {
     "data": {
      "text/plain": [
       "'pent fury unleashed seething ferocity anger raging raged rages roaring engulfing frustration frustrations dissatisfaction impatience madness mayhem angry irate vengeance bloodlust avenging warpath vengence jealousy jealously possessiveness wrath brimstone wrathful outrage outcry uproar ire indignation furor furious frantic fuming despair gloom wallow lament hopelessness helplessness desolation discouragement worthlessness lamentation weariness'"
      ]
     },
     "execution_count": 23,
     "metadata": {},
     "output_type": "execute_result"
    }
   ],
   "source": [
    "ragingWords = ' '.join(word for word in rage)\n",
    "ragingWords"
   ]
  },
  {
   "cell_type": "code",
   "execution_count": 24,
   "metadata": {},
   "outputs": [],
   "source": [
    "raging = nlp(ragingWords)"
   ]
  },
  {
   "cell_type": "code",
   "execution_count": 25,
   "metadata": {},
   "outputs": [
    {
     "name": "stdout",
     "output_type": "stream",
     "text": [
      "pent VERB VBD\n",
      "fury NOUN NN\n",
      "unleashed VERB VBD\n",
      "seething VERB VBG\n",
      "ferocity NOUN NN\n",
      "anger NOUN NN\n",
      "raging VERB VBG\n",
      "raged VERB VBD\n",
      "rages NOUN NNS\n",
      "roaring VERB VBG\n",
      "engulfing VERB VBG\n",
      "frustration NOUN NN\n",
      "frustrations NOUN NNS\n",
      "dissatisfaction NOUN NN\n",
      "impatience NOUN NN\n",
      "madness NOUN NN\n",
      "mayhem NOUN NN\n",
      "angry ADJ JJ\n",
      "irate ADJ JJ\n",
      "vengeance NOUN NN\n",
      "bloodlust NOUN NN\n",
      "avenging VERB VBG\n",
      "warpath ADJ JJ\n",
      "vengence NOUN NN\n",
      "jealousy NOUN NN\n",
      "jealously ADV RB\n",
      "possessiveness NOUN NN\n",
      "wrath NOUN NN\n",
      "brimstone NOUN NN\n",
      "wrathful VERB VBD\n",
      "outrage NOUN NN\n",
      "outcry NOUN NN\n",
      "uproar NOUN NN\n",
      "ire NOUN NN\n",
      "indignation NOUN NN\n",
      "furor NOUN NN\n",
      "furious ADJ JJ\n",
      "frantic ADJ JJ\n",
      "fuming VERB VBG\n",
      "despair NOUN NN\n",
      "gloom NOUN NN\n",
      "wallow NOUN NN\n",
      "lament NOUN NN\n",
      "hopelessness NOUN NN\n",
      "helplessness NOUN NN\n",
      "desolation VERB VBD\n",
      "discouragement ADJ JJ\n",
      "worthlessness NOUN NN\n",
      "lamentation NOUN NN\n",
      "weariness NOUN NN\n"
     ]
    }
   ],
   "source": [
    "for item in raging:\n",
    "    print(item.text, item.pos_, item.tag_)"
   ]
  },
  {
   "cell_type": "code",
   "execution_count": 26,
   "metadata": {},
   "outputs": [
    {
     "name": "stdout",
     "output_type": "stream",
     "text": [
      "pen VERB VBD\n",
      "fury NOUN NN\n",
      "unleash VERB VBD\n",
      "seethe VERB VBG\n",
      "ferocity NOUN NN\n",
      "anger NOUN NN\n",
      "rag VERB VBG\n",
      "rag VERB VBD\n",
      "rage NOUN NNS\n",
      "roar VERB VBG\n",
      "engulf VERB VBG\n",
      "frustration NOUN NN\n",
      "frustration NOUN NNS\n",
      "dissatisfaction NOUN NN\n",
      "impatience NOUN NN\n",
      "madness NOUN NN\n",
      "mayhem NOUN NN\n",
      "angry ADJ JJ\n",
      "irate ADJ JJ\n",
      "vengeance NOUN NN\n",
      "bloodlust NOUN NN\n",
      "avenge VERB VBG\n",
      "warpath ADJ JJ\n",
      "vengence NOUN NN\n",
      "jealousy NOUN NN\n",
      "jealously ADV RB\n",
      "possessiveness NOUN NN\n",
      "wrath NOUN NN\n",
      "brimstone NOUN NN\n",
      "wrathful VERB VBD\n",
      "outrage NOUN NN\n",
      "outcry NOUN NN\n",
      "uproar NOUN NN\n",
      "ire NOUN NN\n",
      "indignation NOUN NN\n",
      "furor NOUN NN\n",
      "furious ADJ JJ\n",
      "frantic ADJ JJ\n",
      "fume VERB VBG\n",
      "despair NOUN NN\n",
      "gloom NOUN NN\n",
      "wallow NOUN NN\n",
      "lament NOUN NN\n",
      "hopelessness NOUN NN\n",
      "helplessness NOUN NN\n",
      "desolation VERB VBD\n",
      "discouragement ADJ JJ\n",
      "worthlessness NOUN NN\n",
      "lamentation NOUN NN\n",
      "weariness NOUN NN\n"
     ]
    }
   ],
   "source": [
    "for word in raging:\n",
    "    print(word.lemma_, word.pos_, word.tag_)"
   ]
  },
  {
   "cell_type": "code",
   "execution_count": 27,
   "metadata": {},
   "outputs": [
    {
     "data": {
      "text/plain": [
       "['pity',\n",
       " 'pitty',\n",
       " 'disgrace',\n",
       " 'travesty',\n",
       " 'infamy',\n",
       " 'dishonor',\n",
       " 'disrepute',\n",
       " 'fear',\n",
       " 'ashamed',\n",
       " 'stoop',\n",
       " 'blame',\n",
       " 'scapegoat',\n",
       " 'sad',\n",
       " 'embarrassment',\n",
       " 'embarassment',\n",
       " 'indignity',\n",
       " 'regret',\n",
       " 'nothing',\n",
       " 'hell',\n",
       " 'sadly',\n",
       " 'hate',\n",
       " 'wonder',\n",
       " 'shameful',\n",
       " 'inexcusable',\n",
       " 'disgraceful',\n",
       " 'scandalous',\n",
       " 'inglorious',\n",
       " 'sordid',\n",
       " 'unseemly',\n",
       " 'terrible',\n",
       " 'disappointment',\n",
       " 'letdown',\n",
       " 'disappointments',\n",
       " 'dissapointment',\n",
       " 'admit',\n",
       " 'ignorance',\n",
       " 'guilt',\n",
       " 'culpability',\n",
       " 'afraid',\n",
       " 'disrespect',\n",
       " 'disrespecting',\n",
       " 'insubordination',\n",
       " 'utter',\n",
       " 'abject',\n",
       " 'unmitigated',\n",
       " 'honestly',\n",
       " 'truthfully',\n",
       " 'anger',\n",
       " 'reason',\n",
       " 'thing']"
      ]
     },
     "execution_count": 27,
     "metadata": {},
     "output_type": "execute_result"
    }
   ],
   "source": [
    "def similarsemantic(t, nlp, word, n):\n",
    "    seen = set()\n",
    "    count = 0\n",
    "    for i in t.get_nns_by_vector(nlp.vocab[word].vector, 100):\n",
    "        this_word = lexmap[i].orth_.lower()\n",
    "        if this_word not in seen and word != this_word:\n",
    "            seen.add(this_word)\n",
    "            count += 1\n",
    "            yield this_word\n",
    "            if count >= n:\n",
    "                break\n",
    "shame = list(similarsemantic(t, nlp, \"shame\", 50))\n",
    "shame"
   ]
  },
  {
   "cell_type": "code",
   "execution_count": 28,
   "metadata": {},
   "outputs": [
    {
     "data": {
      "text/plain": [
       "'pity pitty disgrace travesty infamy dishonor disrepute fear ashamed stoop blame scapegoat sad embarrassment embarassment indignity regret nothing hell sadly hate wonder shameful inexcusable disgraceful scandalous inglorious sordid unseemly terrible disappointment letdown disappointments dissapointment admit ignorance guilt culpability afraid disrespect disrespecting insubordination utter abject unmitigated honestly truthfully anger reason thing'"
      ]
     },
     "execution_count": 28,
     "metadata": {},
     "output_type": "execute_result"
    }
   ],
   "source": [
    "shameWords = ' '.join(word for word in shame)\n",
    "shameWords"
   ]
  },
  {
   "cell_type": "code",
   "execution_count": 29,
   "metadata": {},
   "outputs": [],
   "source": [
    "ashamed = nlp(shameWords)"
   ]
  },
  {
   "cell_type": "code",
   "execution_count": 30,
   "metadata": {},
   "outputs": [
    {
     "name": "stdout",
     "output_type": "stream",
     "text": [
      "pity NOUN NN\n",
      "pitty NOUN NN\n",
      "disgrace NOUN NN\n",
      "travesty NOUN NN\n",
      "infamy NOUN NN\n",
      "dishonor NOUN NN\n",
      "disrepute NOUN NN\n",
      "fear NOUN NN\n",
      "ashamed ADJ JJ\n",
      "stoop NOUN NN\n",
      "blame VERB VBP\n",
      "scapegoat NOUN NN\n",
      "sad ADJ JJ\n",
      "embarrassment ADJ JJ\n",
      "embarassment NOUN NN\n",
      "indignity NOUN NN\n",
      "regret VERB VBP\n",
      "nothing NOUN NN\n",
      "hell NOUN NN\n",
      "sadly ADV RB\n",
      "hate VERB VBP\n",
      "wonder VERB VBP\n",
      "shameful ADJ JJ\n",
      "inexcusable ADJ JJ\n",
      "disgraceful ADJ JJ\n",
      "scandalous ADJ JJ\n",
      "inglorious ADJ JJ\n",
      "sordid ADJ JJ\n",
      "unseemly ADJ JJ\n",
      "terrible ADJ JJ\n",
      "disappointment NOUN NN\n",
      "letdown NOUN NN\n",
      "disappointment NOUN NNS\n",
      "dissapointment NOUN NN\n",
      "admit VERB VBP\n",
      "ignorance NOUN NN\n",
      "guilt NOUN NN\n",
      "culpability NOUN NN\n",
      "afraid ADJ JJ\n",
      "disrespect VERB VBP\n",
      "disrespect VERB VBG\n",
      "insubordination NOUN NN\n",
      "utter ADJ JJ\n",
      "abject NOUN NN\n",
      "unmitigat VERB VBD\n",
      "honestly ADV RB\n",
      "truthfully ADV RB\n",
      "anger NOUN NN\n",
      "reason NOUN NN\n",
      "thing NOUN NN\n"
     ]
    }
   ],
   "source": [
    "for lex in ashamed:\n",
    "    print(lex.lemma_, lex.pos_, lex.tag_)"
   ]
  },
  {
   "cell_type": "code",
   "execution_count": 31,
   "metadata": {},
   "outputs": [],
   "source": [
    "fem = nlp(open(\"plaintext-example-files-master/feminism_and_sex_extinction.txt\").read())"
   ]
  },
  {
   "cell_type": "code",
   "execution_count": 32,
   "metadata": {},
   "outputs": [
    {
     "name": "stdout",
     "output_type": "stream",
     "text": [
      "Investigation shows one striking feature as having been common to most of these great decadences.\n",
      "In nearly every case, the dominance and licence of their women were conspicuous.\n",
      "And realising Woman's portentous rôle in Racial advance, it is difficult to believe anything but that her rôle must be equally potent in Racial decline.\n",
      "\n",
      "\n",
      "A nation becomes decadent because the individuals composing it have become decadent.\n",
      "The individuals composing it can only have become progressively decadent by progressive hereditary decadences.\n",
      "And since Woman is the racial reservoir and the Agency of Evolution, hereditary decline of individuals and nations must have its source in a decline of mother-power.\n",
      "\n",
      "\n",
      "History confirms this view.\n",
      "It shows the progress and waxing supremacy of these great powers to have been concurrent with rising levels of womanly character and virtue, with high regard for woman by man, with high estimation and observance by woman of the functions of motherhood and of The Home.\n",
      "While neglect of the home, contempt for and evasion of the duties of motherhood, immorality and general licence among their women characterised their downfall.\n",
      "\n",
      "\n",
      "And comparing some modern developments with these records of Ruin, one can but be struck by notable resemblances between these latter and the present-day trend of all our greater civilisations.\n",
      "\n",
      "\n",
      "There is no more difficult, or possibly mischievous, person than a strong and clever woman whose over-developed masculine energies and abilities are controlled neither by a man's reason and sense of responsibility, nor by a woman's natural disabilities, affections and restraints.\n",
      "She is sometimes prodigiously clever; adding to her male talents a woman's fertility, versatility, adaptability, complexity and intuitiveness.\n",
      "And yet with all their gifts, such women accomplish little but harm—alike to themselves and others.\n",
      "\n",
      "\n",
      "Erratic, fickle, irrepressible, they are perpetually flying off at tangents.\n",
      "Now they are one thing too much.\n",
      "Now they are the opposite—in an equal extreme.\n",
      "\n",
      "\n",
      "Medleys of contradictions and perversities, they are no sooner repressed in one direction, or become fatigued by the monotony of any single line of action, than they burst forth in some other.\n",
      "Their abnormal mentality and energy, allied to their innate impulsiveness and craving for change, impel them to break loose from those bonds of affection, of tradition and of aspiration, which are woman's safeguards.\n",
      "There is in the nature of most women, this dangerous quicksand of irresponsibility, which may, in crises, topple and submerge the soundest structure of education and of habit builded over it.\n",
      "This is seen in the abandon and anarchy of the sex in riots and in revolutions.\n",
      "\n",
      "\n",
      "Such women rebels become increasingly a law unto themselves, and see no reason why all others should not do likewise.\n",
      "They lack the masculine grip of concrete principles to recognise that general lawlessness and individual liberty cannot co-exist.\n",
      "Because where every man is free to do as he pleases, no man is free to do as he pleases, owing to some other man's abuse of his liberty encroaching on that of his neighbours.\n",
      "\n",
      "\n",
      "Women of this order are the Cleopatras, Agrippinas, Messalinas and the Catharines of Russia; the de Pompadours, de Staëls, Georges Sands, and the innumerable other self-centred, unconscionable female-egotists whose extravagances shriek discordant down the ages.\n",
      "\n",
      "\n",
      "Lacking both a woman's morals and a man's ethics, they are freaks of Nature; or are Frankensteins of abnormal culture.\n",
      "When they are not Empresses, to indulge in shameful licence—their male abilities exaggerating their woman-instincts to the dimensions of megalomanias—their inordinate ambitions make them mistresses of crowned heads, or of others whose rank or wealth supplies their mistresses with means and scope for their unbridled prodigalities.\n",
      "Privileged by their sex and by masculine favour, their lawlessness protected from its merited penalties by the law-abiding of their fellows, they become intoxicated—frequently insane—as result of their successes and excesses.\n",
      "The famous courtesans have been (and are still) for the most part women of this ilk; persons of steel brain and will, without a woman's aspirations or emotions to soften their self-centredness; nor a man's code to discipline their wantonness.\n",
      "They make men the instruments and the victims of their feminine defects, which are all—or nearly all\n",
      "—of woman they possess; self-consciousness distorted to a monstrous vanity, emotions dwarfed to greeds and lusts.\n",
      "\n",
      "\n",
      "One after another, they exploit their victims, by exercise, precisely, of the same masculine business-abilities and ruthlessness which make men fraudulent company-promoters, profiteers, or sweaters of the poor.\n",
      "When one has served their purpose, they cast him off for another.\n",
      "Cold-blooded, clever, and emotionless, although sometimes sensual in a fashion purely male (in keeping with their other male proclivities) they are adventuresses, spies, poisoners, adultresses, monsters; abiding reproach to a noble sex; terrible example of the fate awaiting that sex, as penalty for abnormal development of masculine characteristics beyond the capacity of its Woman-traits to counterpoise and guide.\n",
      "\n",
      "\n",
      "Power, which strengthens and steadies all but weak men, only too often drives women to destruction.\n",
      "A factor in this is that those privileges of their sex which have become, more or less, their civilised prerogative, preserve them from the salutary harsh and stern rebuffs which men in like circumstance inevitably encounter.\n",
      "\n",
      " \n",
      "\n",
      "If women are to have scope and authority identical with men's, then they must forgo all privileges; must come out from their fence behind strong arms and chivalry to meet masculine blows in the face,\n",
      "economic and ethical—if not actual, indeed, as Prévost has predicted.\n",
      "\n",
      "\n"
     ]
    }
   ],
   "source": [
    "for sentence in fem.sents:\n",
    "    print(sentence.text)"
   ]
  },
  {
   "cell_type": "code",
   "execution_count": 33,
   "metadata": {},
   "outputs": [],
   "source": [
    "sentences_as_list = list(fem.sents)"
   ]
  },
  {
   "cell_type": "code",
   "execution_count": 34,
   "metadata": {},
   "outputs": [
    {
     "data": {
      "text/plain": [
       "Medleys of contradictions and perversities, they are no sooner repressed in one direction, or become fatigued by the monotony of any single line of action, than they burst forth in some other."
      ]
     },
     "execution_count": 34,
     "metadata": {},
     "output_type": "execute_result"
    }
   ],
   "source": [
    "import random\n",
    "chauvinist = random.choice(sentences_as_list)\n",
    "chauvinist"
   ]
  },
  {
   "cell_type": "code",
   "execution_count": 35,
   "metadata": {},
   "outputs": [
    {
     "data": {
      "text/plain": [
       "['fury',\n",
       " 'ferocity',\n",
       " 'anger',\n",
       " 'rages',\n",
       " 'frustration',\n",
       " 'frustrations',\n",
       " 'dissatisfaction',\n",
       " 'impatience',\n",
       " 'madness',\n",
       " 'mayhem',\n",
       " 'vengeance',\n",
       " 'bloodlust',\n",
       " 'vengence',\n",
       " 'jealousy',\n",
       " 'possessiveness',\n",
       " 'wrath',\n",
       " 'brimstone',\n",
       " 'outrage',\n",
       " 'outcry',\n",
       " 'uproar',\n",
       " 'ire',\n",
       " 'indignation',\n",
       " 'furor',\n",
       " 'despair',\n",
       " 'gloom',\n",
       " 'wallow',\n",
       " 'lament',\n",
       " 'hopelessness',\n",
       " 'helplessness',\n",
       " 'worthlessness',\n",
       " 'lamentation',\n",
       " 'weariness']"
      ]
     },
     "execution_count": 35,
     "metadata": {},
     "output_type": "execute_result"
    }
   ],
   "source": [
    "rageNouns = [item.text for item in raging if item.pos_ == 'NOUN']\n",
    "rageNouns"
   ]
  },
  {
   "cell_type": "code",
   "execution_count": 36,
   "metadata": {},
   "outputs": [
    {
     "data": {
      "text/plain": [
       "['ashamed',\n",
       " 'sad',\n",
       " 'embarrassment',\n",
       " 'shameful',\n",
       " 'inexcusable',\n",
       " 'disgraceful',\n",
       " 'scandalous',\n",
       " 'inglorious',\n",
       " 'sordid',\n",
       " 'unseemly',\n",
       " 'terrible',\n",
       " 'afraid',\n",
       " 'utter']"
      ]
     },
     "execution_count": 36,
     "metadata": {},
     "output_type": "execute_result"
    }
   ],
   "source": [
    "shameAdjs = [item.text for item in ashamed if item.pos_ == 'ADJ']\n",
    "shameAdjs"
   ]
  },
  {
   "cell_type": "code",
   "execution_count": 37,
   "metadata": {},
   "outputs": [],
   "source": [
    "import pronouncing as pr"
   ]
  },
  {
   "cell_type": "code",
   "execution_count": 39,
   "metadata": {},
   "outputs": [
    {
     "data": {
      "text/plain": [
       "['vigorous',\n",
       " 'loveless',\n",
       " 'courteous',\n",
       " 'demetrius',\n",
       " 'rhinoceros',\n",
       " 'brountas',\n",
       " 'palonius',\n",
       " 'wimpiness',\n",
       " 'animus',\n",
       " 'outspokenness']"
      ]
     },
     "execution_count": 39,
     "metadata": {},
     "output_type": "execute_result"
    }
   ],
   "source": [
    "ragePhones = pr.phones_for_word(random.choice(rageNouns))[0]\n",
    "last_two = ragePhones.split()[-2:]\n",
    "pattern = \" \".join(last_two) + \"$\"\n",
    "rageRhymes = random.sample(pr.search(pattern), 10)\n",
    "rageRhymes"
   ]
  },
  {
   "cell_type": "code",
   "execution_count": 40,
   "metadata": {},
   "outputs": [],
   "source": [
    "!curl -L -s https://github.com/aparrish/phonetic-similarity-vectors/blob/master/cmudict-0.7b-simvecs?raw=true >cmudict-0.7b-simvecs"
   ]
  },
  {
   "cell_type": "code",
   "execution_count": 41,
   "metadata": {},
   "outputs": [],
   "source": [
    "word_vecs = []\n",
    "for line in open(\"./cmudict-0.7b-simvecs\", encoding='latin1'):\n",
    "    line = line.strip()\n",
    "    word, vec = line.split(\"  \")\n",
    "    word = word.rstrip('(0123)').lower()\n",
    "    vec = tuple(float(n) for n in vec.split())\n",
    "    word_vecs.append((word, vec))"
   ]
  },
  {
   "cell_type": "code",
   "execution_count": 42,
   "metadata": {},
   "outputs": [],
   "source": [
    "\n",
    "group_by_vec = defaultdict(list)\n",
    "for word, vec in word_vecs:\n",
    "    group_by_vec[vec].append(word)"
   ]
  },
  {
   "cell_type": "code",
   "execution_count": 43,
   "metadata": {},
   "outputs": [],
   "source": [
    "lookup = {}\n",
    "for word, vec in word_vecs:\n",
    "    if word in lookup:\n",
    "        continue\n",
    "    lookup[word] = np.array(vec)"
   ]
  },
  {
   "cell_type": "code",
   "execution_count": 44,
   "metadata": {},
   "outputs": [],
   "source": [
    "shamePhones = pr.phones_for_word(random.choice(shameAdjs))[0]\n",
    "last_two = shamePhones.split()[-2:]\n",
    "order = \" \".join(last_two) + \"$\"\n",
    "shameRhymes = random.sample(pr.search(order), 5)"
   ]
  },
  {
   "cell_type": "code",
   "execution_count": 45,
   "metadata": {},
   "outputs": [
    {
     "name": "stdout",
     "output_type": "stream",
     "text": [
      "Their abnormal mentality and energy, allied to their innate impulsiveness and craving for change, impel them to break loose from those bonds of affection, of tradition and of aspiration, which are woman's safeguards.\n",
      "my inglorious uproar\n",
      "let them see my hysterics, nonsense 'til they die\n",
      "difference benevolence mounce alfonse interference\n",
      "combed entombed creamed teamed malformed\n",
      " \n",
      "This is seen in the abandon and anarchy of the sex in riots and in revolutions.\n",
      "\n",
      "\n",
      "my sordid hopelessness\n",
      "let them see my hysterics, nonsense 'til they die\n",
      "since reallowance submergence renaissance lawrence\n",
      "radical noncommittal coble carabajal unenforceable\n",
      " \n",
      "While neglect of the home, contempt for and evasion of the duties of motherhood, immorality and general licence among their women characterised their downfall.\n",
      "\n",
      "\n",
      "my disgraceful furor\n",
      "let them see my hysterics, nonsense 'til they die\n",
      "dinkins rutan's frontline's albans egyptians\n",
      "muzzle twiddle kemple fogal opal\n",
      " \n"
     ]
    }
   ],
   "source": [
    "for i in range(3):\n",
    "    chauvinist = random.choice(sentences_as_list)\n",
    "    ragePhones = pr.phones_for_word(random.choice(rageNouns))[0]\n",
    "    last_two = ragePhones.split()[-2:]\n",
    "    pattern = \" \".join(last_two) + \"$\"\n",
    "    rageRhymes = random.sample(pr.search(pattern), 5)\n",
    "    shamePhones = pr.phones_for_word(random.choice(shameAdjs))[0]\n",
    "    last_two = shamePhones.split()[-2:]\n",
    "    order = \" \".join(last_two) + \"$\"\n",
    "    shameRhymes = random.sample(pr.search(order), 5)\n",
    "    print(chauvinist)\n",
    "    print(\"my\" + \" \" + random.choice(shameAdjs) + \" \" + random.choice(rageNouns))\n",
    "    print(\"let them see my hysterics, nonsense 'til they die\")\n",
    "    print(' '.join(word for word in rageRhymes))\n",
    "    print(' '.join(word for word in shameRhymes))\n",
    "    print(\" \")"
   ]
  },
  {
   "cell_type": "code",
   "execution_count": 46,
   "metadata": {},
   "outputs": [
    {
     "data": {
      "text/plain": [
       "array([-0.59814  ,  0.24748  ,  0.0098196,  0.022292 , -0.29727  ,\n",
       "        0.13375  , -0.010423 ,  0.34451  ,  0.16293  ,  2.3705   ,\n",
       "        0.41508  , -0.018998 , -0.25932  , -0.24326  , -0.1538   ,\n",
       "       -0.16627  ,  0.091584 ,  0.023578 , -0.12212  ,  0.7435   ,\n",
       "       -0.36869  , -0.34332  ,  0.33264  , -0.58622  ,  0.16883  ,\n",
       "       -0.11281  ,  0.11945  ,  0.43069  , -0.25435  , -0.18037  ,\n",
       "        0.018789 , -0.045297 , -0.72008  ,  0.13173  ,  0.14295  ,\n",
       "        0.343    ,  0.35168  ,  0.35173  ,  0.024463 , -0.16887  ,\n",
       "        0.43104  , -0.15079  , -0.20876  ,  0.33001  , -0.089018 ,\n",
       "        0.020021 , -0.18549  ,  0.86702  , -0.012468 ,  0.30047  ,\n",
       "        0.034552 , -0.14669  , -0.15032  , -0.0092983, -0.050426 ,\n",
       "        0.24785  ,  0.029674 , -0.37409  ,  0.27677  , -0.19275  ,\n",
       "       -0.39655  ,  0.34089  , -0.58155  , -0.46124  , -0.19093  ,\n",
       "       -0.083098 , -0.10103  , -0.27509  ,  0.17047  ,  0.8778   ,\n",
       "        0.2233   , -0.26397  , -0.15006  ,  0.38115  ,  0.16932  ,\n",
       "       -0.020148 ,  0.20423  ,  0.098115 , -0.28748  , -0.025528 ,\n",
       "       -0.68137  ,  0.062562 , -0.3896   , -0.68822  ,  0.097908 ,\n",
       "       -0.06595  , -0.18608  , -0.31125  ,  0.6746   ,  0.2031   ,\n",
       "       -0.42681  , -0.51147  ,  0.14421  ,  0.052231 , -0.13736  ,\n",
       "       -0.0072806, -0.51584  ,  0.28824  , -0.3736   , -0.24787  ,\n",
       "        0.12233  , -0.71969  ,  0.063504 , -0.38081  ,  0.28239  ,\n",
       "       -1.7328   , -0.095042 ,  0.21143  , -0.33332  ,  0.40748  ,\n",
       "       -0.48487  , -0.26731  ,  0.067696 , -0.092862 , -0.4945   ,\n",
       "       -0.5437   , -0.17944  , -0.32387  ,  0.53255  , -0.15629  ,\n",
       "        0.12767  , -0.1579   , -0.13891  ,  0.0080341,  0.15374  ,\n",
       "       -0.0096556, -0.16164  ,  0.26106  , -0.3797   ,  0.0037604,\n",
       "       -0.3505   , -0.34533  , -0.086627 ,  0.01337  , -0.026201 ,\n",
       "        0.07864  , -0.078203 ,  0.38303  , -0.30952  , -0.016598 ,\n",
       "       -1.2736   ,  0.25734  ,  0.11767  , -0.25299  , -0.47855  ,\n",
       "        0.18725  , -0.47876  ,  0.11543  , -0.2643   , -0.067331 ,\n",
       "        0.35977  , -0.061289 ,  0.10308  ,  0.24465  ,  0.21837  ,\n",
       "       -0.2633   ,  0.12166  ,  0.52059  , -0.46578  , -0.58386  ,\n",
       "       -0.38601  ,  0.12898  , -0.33303  , -0.50159  , -0.011972 ,\n",
       "        0.16194  ,  0.046679 ,  0.060029 , -0.34048  , -0.3107   ,\n",
       "       -0.76025  , -0.53867  ,  0.14361  ,  0.20805  ,  0.22451  ,\n",
       "        0.22158  ,  0.12922  , -0.28316  , -0.006363 , -0.30169  ,\n",
       "       -0.20192  , -0.56173  , -0.18321  ,  0.54126  ,  0.38626  ,\n",
       "       -0.46096  , -0.044447 , -0.13806  , -0.17192  ,  0.11767  ,\n",
       "        0.43759  , -0.30711  ,  0.37033  ,  0.26659  ,  0.60997  ,\n",
       "        0.087958 ,  0.10607  , -0.31618  , -0.039288 ,  0.49166  ,\n",
       "        0.43245  ,  0.053496 , -0.20949  ,  0.33004  , -0.65636  ,\n",
       "       -0.12417  ,  0.0095204,  0.053173 ,  0.36702  ,  0.12726  ,\n",
       "       -0.032705 , -0.1383   ,  0.088632 ,  0.81413  ,  0.44629  ,\n",
       "       -0.2674   ,  0.030957 ,  0.12892  , -0.36609  , -0.30143  ,\n",
       "       -0.08184  , -0.37738  ,  0.14023  ,  0.097985 , -0.38036  ,\n",
       "       -0.36215  ,  0.1221   , -0.3949   , -0.096548 , -0.22388  ,\n",
       "        0.045968 ,  0.4505   ,  0.39198  , -0.096129 , -0.023586 ,\n",
       "        0.29453  ,  0.18931  ,  0.075108 ,  0.13693  ,  0.047236 ,\n",
       "        0.35887  ,  0.48937  ,  0.017462 , -0.26564  , -0.43438  ,\n",
       "       -0.17723  , -0.50845  , -0.12068  ,  0.26125  ,  0.23686  ,\n",
       "        0.069795 , -0.11423  ,  0.1835   ,  0.58218  , -0.046536 ,\n",
       "       -0.23693  ,  0.027567 , -0.18682  ,  0.39943  ,  0.23104  ,\n",
       "       -0.23793  , -0.081368 , -0.0672   , -0.28284  , -0.32124  ,\n",
       "        0.26534  , -0.14632  , -0.089157 ,  0.32247  , -0.17224  ,\n",
       "        0.21983  ,  0.41674  , -0.19159  , -0.2401   , -0.11543  ,\n",
       "       -0.83203  ,  0.21594  , -0.011902 , -0.014189 ,  0.25397  ,\n",
       "        0.33403  , -0.096074 , -0.090498 ,  0.21217  , -0.026121 ,\n",
       "       -0.060833 ,  0.086739 , -0.026399 , -0.1561   , -0.38622  ,\n",
       "        0.21235  ,  0.056872 ,  0.67097  ,  0.2046   ,  0.15446  ,\n",
       "        0.57023  ,  0.10557  ,  0.4614   , -0.27555  ,  0.091492 ],\n",
       "      dtype=float32)"
      ]
     },
     "execution_count": 46,
     "metadata": {},
     "output_type": "execute_result"
    }
   ],
   "source": [
    "nlp.vocab[random.choice(rageNouns)].vector"
   ]
  },
  {
   "cell_type": "code",
   "execution_count": 47,
   "metadata": {},
   "outputs": [],
   "source": [
    "def vec(s):\n",
    "    return nlp.vocab[s].vector"
   ]
  },
  {
   "cell_type": "code",
   "execution_count": 48,
   "metadata": {},
   "outputs": [],
   "source": [
    "lookup = SimpleNeighbors(300)\n",
    "for item in nlp.vocab:\n",
    "    if item.has_vector and item.prob > -15 and item.is_lower:\n",
    "        lookup.add_one(item.text, item.vector)\n",
    "lookup.build()"
   ]
  },
  {
   "cell_type": "code",
   "execution_count": 74,
   "metadata": {},
   "outputs": [
    {
     "data": {
      "text/plain": [
       "['frustrations',\n",
       " 'dissatisfaction',\n",
       " 'impatience',\n",
       " 'frustration',\n",
       " 'anger',\n",
       " 'letdown',\n",
       " 'disappointments',\n",
       " 'disappointment',\n",
       " 'annoyance',\n",
       " 'annoyances',\n",
       " 'confusion',\n",
       " 'lament']"
      ]
     },
     "execution_count": 74,
     "metadata": {},
     "output_type": "execute_result"
    }
   ],
   "source": [
    "rageVec = lookup.nearest(vec(random.choice(rageNouns)))\n",
    "rageVec"
   ]
  },
  {
   "cell_type": "code",
   "execution_count": 95,
   "metadata": {},
   "outputs": [
    {
     "data": {
      "text/plain": [
       "['sad',\n",
       " 'pathetic',\n",
       " 'pity',\n",
       " 'awful',\n",
       " 'horrible',\n",
       " 'terrible',\n",
       " 'miserable',\n",
       " 'wretched',\n",
       " 'hopeless',\n",
       " 'hopelessly',\n",
       " 'silly',\n",
       " 'meager']"
      ]
     },
     "execution_count": 95,
     "metadata": {},
     "output_type": "execute_result"
    }
   ],
   "source": [
    "shameVec = lookup.nearest(vec(random.choice(shameAdjs)))\n",
    "shameVec"
   ]
  },
  {
   "cell_type": "code",
   "execution_count": 139,
   "metadata": {},
   "outputs": [
    {
     "name": "stdout",
     "output_type": "stream",
     "text": [
      "Such women rebels become increasingly a law unto themselves, and see no reason why all others should not do likewise.\n",
      " \n",
      "my utter ire\n",
      " \n",
      "let them see my hysteria as it bleeds:\n",
      "bloodlust vengeance revenge vendetta avenge reckoning retribution maniacal genocidal murderous vigilante vengeful\n",
      "scandalous disgraceful shameful inexcusable infamy disgrace travesty dishonesty hypocrisy unfairness injustice injustices\n",
      " \n",
      "Privileged by their sex and by masculine favour, their lawlessness protected from its merited penalties by the law-abiding of their fellows, they become intoxicated—frequently insane—as result of their successes and excesses.\n",
      " \n",
      "my inglorious hopelessness\n",
      " \n",
      "let them see my hysteria as it bleeds:\n",
      "lament gloom hopelessness wallow helplessness despair heartache sadness sorrow melancholy heartbreak misfortune\n",
      "sad pathetic pity awful horrible terrible miserable wretched hopeless hopelessly silly meager\n",
      " \n",
      "And yet with all their gifts, such women accomplish little but harm—alike to themselves and others.\n",
      "\n",
      "\n",
      " \n",
      "my sordid despair\n",
      " \n",
      "let them see my hysteria as it bleeds:\n",
      "ferocity seething fury unleashed pent rage anger hatred outcry indignation outrage uproar\n",
      "scandalous disgraceful shameful inexcusable infamy disgrace travesty dishonesty hypocrisy unfairness injustice injustices\n",
      " \n"
     ]
    }
   ],
   "source": [
    "for i in range(3):\n",
    "    chauvinist = random.choice(sentences_as_list)\n",
    "    rageVec = lookup.nearest(vec(random.choice(rageNouns)))\n",
    "    shameVec = lookup.nearest(vec(random.choice(shameAdjs)))\n",
    "    print(chauvinist)\n",
    "    print(\" \")\n",
    "    print(\"my\" + \" \" + random.choice(shameAdjs) + \" \" + random.choice(rageNouns))\n",
    "    print(\" \")\n",
    "    print(\"let them see my hysteria as it bleeds:\")\n",
    "    print(' '.join(word for word in rageVec))\n",
    "    print(' '.join(word for word in shameVec))\n",
    "    print(\" \")"
   ]
  },
  {
   "cell_type": "code",
   "execution_count": null,
   "metadata": {},
   "outputs": [],
   "source": []
  },
  {
   "cell_type": "code",
   "execution_count": null,
   "metadata": {},
   "outputs": [],
   "source": []
  },
  {
   "cell_type": "code",
   "execution_count": null,
   "metadata": {},
   "outputs": [],
   "source": []
  },
  {
   "cell_type": "code",
   "execution_count": null,
   "metadata": {},
   "outputs": [],
   "source": []
  },
  {
   "cell_type": "code",
   "execution_count": null,
   "metadata": {},
   "outputs": [],
   "source": []
  },
  {
   "cell_type": "code",
   "execution_count": null,
   "metadata": {},
   "outputs": [],
   "source": []
  },
  {
   "cell_type": "code",
   "execution_count": null,
   "metadata": {},
   "outputs": [],
   "source": []
  },
  {
   "cell_type": "code",
   "execution_count": null,
   "metadata": {},
   "outputs": [],
   "source": []
  }
 ],
 "metadata": {
  "kernelspec": {
   "display_name": "Python 3",
   "language": "python",
   "name": "python3"
  },
  "language_info": {
   "codemirror_mode": {
    "name": "ipython",
    "version": 3
   },
   "file_extension": ".py",
   "mimetype": "text/x-python",
   "name": "python",
   "nbconvert_exporter": "python",
   "pygments_lexer": "ipython3",
   "version": "3.7.1"
  }
 },
 "nbformat": 4,
 "nbformat_minor": 2
}
