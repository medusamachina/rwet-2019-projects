{
 "cells": [
  {
   "cell_type": "markdown",
   "metadata": {},
   "source": [
    "TEXT: Excerpt of \"White Out\" by Han Kang, printed in Harper's Magazine, Feb 2019\n",
    "\"Spring Response to White Out\" by Gabriella Garcia, Feb 2019"
   ]
  },
  {
   "cell_type": "code",
   "execution_count": 1,
   "metadata": {},
   "outputs": [
    {
     "data": {
      "text/plain": [
       "['Against the background of a black coat sleeve, a large flake of snow will reveal its crystals even to the naked eye.',\n",
       " 'A scant couple of seconds and she has witnessed it all.',\n",
       " 'Mysterious hexagons melting clean away.',\n",
       " '',\n",
       " 'When it first begins to fall, people stop what they are doing and turn their attention to the snow.',\n",
       " 'On a bus, they lift their eyes from their laps and gaze out of the window for a time.',\n",
       " 'Once the snow has been soundlessly strewn about, with an equal absence of joy or sorrow, and the street’s erasure is complete, the people turn their faces away, and the blurring streaks are no longer reflected in their eyes.']"
      ]
     },
     "execution_count": 1,
     "metadata": {},
     "output_type": "execute_result"
    }
   ],
   "source": [
    "winter = [line.strip() for line in open(\"white_out_excerpt_han_kang.txt\")]\n",
    "winter"
   ]
  },
  {
   "cell_type": "code",
   "execution_count": 2,
   "metadata": {
    "scrolled": true
   },
   "outputs": [
    {
     "data": {
      "text/plain": [
       "['Toward a New York City spring, layers shed inversely to the leaves of autumn.',\n",
       " 'The sun, no longer deceptive in its brightness, teases the nape of the neck with its warm breath',\n",
       " 'Asking, sweetly, for a little skin in return.',\n",
       " 'I melt at the suggestion.',\n",
       " 'My limbs, now bare, rise with those of the still-sleeping trees.',\n",
       " 'Perhaps if I sing with the birds, the trees will respond with florets.',\n",
       " '',\n",
       " 'Can a super-bloom happen among humans,',\n",
       " 'Or is the verdant event reserved for desert, so lonely in its thirst?',\n",
       " \"The longer days remind me that I'm thirsty, too.\"]"
      ]
     },
     "execution_count": 2,
     "metadata": {},
     "output_type": "execute_result"
    }
   ],
   "source": [
    "spring = [line.strip() for line in open(\"spring_response_to_white_out.txt\")]\n",
    "spring"
   ]
  },
  {
   "cell_type": "code",
   "execution_count": 3,
   "metadata": {},
   "outputs": [],
   "source": [
    "import random"
   ]
  },
  {
   "cell_type": "code",
   "execution_count": 4,
   "metadata": {},
   "outputs": [],
   "source": [
    "snow = open(\"white_out_excerpt_han_kang.txt\").read()"
   ]
  },
  {
   "cell_type": "code",
   "execution_count": 5,
   "metadata": {},
   "outputs": [
    {
     "data": {
      "text/plain": [
       "['Against',\n",
       " 'the',\n",
       " 'background',\n",
       " 'of',\n",
       " 'a',\n",
       " 'black',\n",
       " 'coat',\n",
       " 'sleeve,',\n",
       " 'a',\n",
       " 'large',\n",
       " 'flake',\n",
       " 'of',\n",
       " 'snow',\n",
       " 'will',\n",
       " 'reveal',\n",
       " 'its',\n",
       " 'crystals',\n",
       " 'even',\n",
       " 'to',\n",
       " 'the',\n",
       " 'naked',\n",
       " 'eye.',\n",
       " 'A',\n",
       " 'scant',\n",
       " 'couple',\n",
       " 'of',\n",
       " 'seconds',\n",
       " 'and',\n",
       " 'she',\n",
       " 'has',\n",
       " 'witnessed',\n",
       " 'it',\n",
       " 'all.',\n",
       " 'Mysterious',\n",
       " 'hexagons',\n",
       " 'melting',\n",
       " 'clean',\n",
       " 'away.',\n",
       " 'When',\n",
       " 'it',\n",
       " 'first',\n",
       " 'begins',\n",
       " 'to',\n",
       " 'fall,',\n",
       " 'people',\n",
       " 'stop',\n",
       " 'what',\n",
       " 'they',\n",
       " 'are',\n",
       " 'doing',\n",
       " 'and',\n",
       " 'turn',\n",
       " 'their',\n",
       " 'attention',\n",
       " 'to',\n",
       " 'the',\n",
       " 'snow.',\n",
       " 'On',\n",
       " 'a',\n",
       " 'bus,',\n",
       " 'they',\n",
       " 'lift',\n",
       " 'their',\n",
       " 'eyes',\n",
       " 'from',\n",
       " 'their',\n",
       " 'laps',\n",
       " 'and',\n",
       " 'gaze',\n",
       " 'out',\n",
       " 'of',\n",
       " 'the',\n",
       " 'window',\n",
       " 'for',\n",
       " 'a',\n",
       " 'time.',\n",
       " 'Once',\n",
       " 'the',\n",
       " 'snow',\n",
       " 'has',\n",
       " 'been',\n",
       " 'soundlessly',\n",
       " 'strewn',\n",
       " 'about,',\n",
       " 'with',\n",
       " 'an',\n",
       " 'equal',\n",
       " 'absence',\n",
       " 'of',\n",
       " 'joy',\n",
       " 'or',\n",
       " 'sorrow,',\n",
       " 'and',\n",
       " 'the',\n",
       " 'street’s',\n",
       " 'erasure',\n",
       " 'is',\n",
       " 'complete,',\n",
       " 'the',\n",
       " 'people',\n",
       " 'turn',\n",
       " 'their',\n",
       " 'faces',\n",
       " 'away,',\n",
       " 'and',\n",
       " 'the',\n",
       " 'blurring',\n",
       " 'streaks',\n",
       " 'are',\n",
       " 'no',\n",
       " 'longer',\n",
       " 'reflected',\n",
       " 'in',\n",
       " 'their',\n",
       " 'eyes.']"
      ]
     },
     "execution_count": 5,
     "metadata": {},
     "output_type": "execute_result"
    }
   ],
   "source": [
    "winter_words = snow.split()\n",
    "winter_words"
   ]
  },
  {
   "cell_type": "code",
   "execution_count": 6,
   "metadata": {},
   "outputs": [],
   "source": [
    "bloom = open(\"spring_response_to_white_out.txt\").read()"
   ]
  },
  {
   "cell_type": "code",
   "execution_count": 7,
   "metadata": {
    "scrolled": true
   },
   "outputs": [
    {
     "data": {
      "text/plain": [
       "['Toward',\n",
       " 'a',\n",
       " 'New',\n",
       " 'York',\n",
       " 'City',\n",
       " 'spring,',\n",
       " 'layers',\n",
       " 'shed',\n",
       " 'inversely',\n",
       " 'to',\n",
       " 'the',\n",
       " 'leaves',\n",
       " 'of',\n",
       " 'autumn.',\n",
       " 'The',\n",
       " 'sun,',\n",
       " 'no',\n",
       " 'longer',\n",
       " 'deceptive',\n",
       " 'in',\n",
       " 'its',\n",
       " 'brightness,',\n",
       " 'teases',\n",
       " 'the',\n",
       " 'nape',\n",
       " 'of',\n",
       " 'the',\n",
       " 'neck',\n",
       " 'with',\n",
       " 'its',\n",
       " 'warm',\n",
       " 'breath',\n",
       " 'Asking,',\n",
       " 'sweetly,',\n",
       " 'for',\n",
       " 'a',\n",
       " 'little',\n",
       " 'skin',\n",
       " 'in',\n",
       " 'return.',\n",
       " 'I',\n",
       " 'melt',\n",
       " 'at',\n",
       " 'the',\n",
       " 'suggestion.',\n",
       " 'My',\n",
       " 'limbs,',\n",
       " 'now',\n",
       " 'bare,',\n",
       " 'rise',\n",
       " 'with',\n",
       " 'those',\n",
       " 'of',\n",
       " 'the',\n",
       " 'still-sleeping',\n",
       " 'trees.',\n",
       " 'Perhaps',\n",
       " 'if',\n",
       " 'I',\n",
       " 'sing',\n",
       " 'with',\n",
       " 'the',\n",
       " 'birds,',\n",
       " 'the',\n",
       " 'trees',\n",
       " 'will',\n",
       " 'respond',\n",
       " 'with',\n",
       " 'florets.',\n",
       " 'Can',\n",
       " 'a',\n",
       " 'super-bloom',\n",
       " 'happen',\n",
       " 'among',\n",
       " 'humans,',\n",
       " 'Or',\n",
       " 'is',\n",
       " 'the',\n",
       " 'verdant',\n",
       " 'event',\n",
       " 'reserved',\n",
       " 'for',\n",
       " 'desert,',\n",
       " 'so',\n",
       " 'lonely',\n",
       " 'in',\n",
       " 'its',\n",
       " 'thirst?',\n",
       " 'The',\n",
       " 'longer',\n",
       " 'days',\n",
       " 'remind',\n",
       " 'me',\n",
       " 'that',\n",
       " \"I'm\",\n",
       " 'thirsty,',\n",
       " 'too.']"
      ]
     },
     "execution_count": 7,
     "metadata": {},
     "output_type": "execute_result"
    }
   ],
   "source": [
    "spring_words = bloom.split()\n",
    "spring_words"
   ]
  },
  {
   "cell_type": "code",
   "execution_count": 11,
   "metadata": {},
   "outputs": [
    {
     "data": {
      "text/plain": [
       "['When it first begins to fall, people stop what they are doing and turn their attention to the snow.',\n",
       " 'A scant couple of seconds and she has witnessed it all.']"
      ]
     },
     "execution_count": 11,
     "metadata": {},
     "output_type": "execute_result"
    }
   ],
   "source": [
    "random.sample(winter, 2)"
   ]
  },
  {
   "cell_type": "code",
   "execution_count": 12,
   "metadata": {},
   "outputs": [
    {
     "data": {
      "text/plain": [
       "['Can a super-bloom happen among humans,',\n",
       " 'The sun, no longer deceptive in its brightness, teases the nape of the neck with its warm breath',\n",
       " 'Or is the verdant event reserved for desert, so lonely in its thirst?']"
      ]
     },
     "execution_count": 12,
     "metadata": {},
     "output_type": "execute_result"
    }
   ],
   "source": [
    "random.sample(spring, 3)"
   ]
  },
  {
   "cell_type": "code",
   "execution_count": 33,
   "metadata": {},
   "outputs": [
    {
     "data": {
      "text/plain": [
       "[\"I'm\", 'little', 'City', 'verdant', 'sweetly,']"
      ]
     },
     "execution_count": 33,
     "metadata": {},
     "output_type": "execute_result"
    }
   ],
   "source": [
    "new_spring = random.sample(spring_words, 5)\n",
    "new_spring"
   ]
  },
  {
   "cell_type": "code",
   "execution_count": 34,
   "metadata": {},
   "outputs": [],
   "source": [
    "glue = \" \""
   ]
  },
  {
   "cell_type": "code",
   "execution_count": 41,
   "metadata": {},
   "outputs": [
    {
     "data": {
      "text/plain": [
       "\"I'm little City verdant sweetly,\""
      ]
     },
     "execution_count": 41,
     "metadata": {},
     "output_type": "execute_result"
    }
   ],
   "source": [
    "spring_line = glue.join(new_spring)\n",
    "spring_line"
   ]
  },
  {
   "cell_type": "code",
   "execution_count": 43,
   "metadata": {},
   "outputs": [
    {
     "data": {
      "text/plain": [
       "['in', 'of', 'away.', 'bus,', 'eyes', 'A', 'a', 'stop', 'even', 'complete,']"
      ]
     },
     "execution_count": 43,
     "metadata": {},
     "output_type": "execute_result"
    }
   ],
   "source": [
    "new_winter = random.sample(winter_words, 10)\n",
    "new_winter"
   ]
  },
  {
   "cell_type": "code",
   "execution_count": 44,
   "metadata": {},
   "outputs": [
    {
     "data": {
      "text/plain": [
       "'in of away. bus, eyes A a stop even complete,'"
      ]
     },
     "execution_count": 44,
     "metadata": {},
     "output_type": "execute_result"
    }
   ],
   "source": [
    "winter_line = glue.join(new_winter)\n",
    "winter_line"
   ]
  },
  {
   "cell_type": "code",
   "execution_count": null,
   "metadata": {},
   "outputs": [],
   "source": []
  },
  {
   "cell_type": "code",
   "execution_count": 78,
   "metadata": {},
   "outputs": [
    {
     "name": "stdout",
     "output_type": "stream",
     "text": [
      "['Mysterious hexagons melting clean away.']\n",
      "is event sweetly, brightness, deceptive\n",
      "\n",
      "['Toward a New York City spring, layers shed inversely to the leaves of autumn.']\n",
      "sorrow, first begins absence street’s\n",
      "['When it first begins to fall, people stop what they are doing and turn their attention to the snow.']\n",
      "lonely its in among layers\n",
      "\n",
      "['Perhaps if I sing with the birds, the trees will respond with florets.']\n",
      "reflected clean a and crystals\n",
      "['When it first begins to fall, people stop what they are doing and turn their attention to the snow.']\n",
      "spring, no with to a\n",
      "\n",
      "['I melt at the suggestion.']\n",
      "background clean are scant faces\n",
      "['']\n",
      "of among a for nape\n",
      "\n",
      "['Toward a New York City spring, layers shed inversely to the leaves of autumn.']\n",
      "Against away, a reveal couple\n",
      "['When it first begins to fall, people stop what they are doing and turn their attention to the snow.']\n",
      "sun, I the trees. of\n",
      "\n",
      "['Or is the verdant event reserved for desert, so lonely in its thirst?']\n",
      "soundlessly attention a A has\n"
     ]
    }
   ],
   "source": [
    "stanza_count = 5\n",
    "for repeat in range(stanza_count):\n",
    "    line_count = random.randrange(2, 4)\n",
    "    for i in range(line_count):\n",
    "        if i == 0:\n",
    "            print(random.sample(winter,1))\n",
    "            new_spring = random.sample(spring_words, 5)\n",
    "            spring_line = glue.join(new_spring)\n",
    "            [item.replace(\"a\", \"i wish\") for item in spring_line if len(item) <= 3]\n",
    "            print(spring_line)\n",
    "            print()\n",
    "        elif i == line_count - 1:\n",
    "            print(random.sample(spring,1))\n",
    "            new_winter = random.sample(winter_words, 5)\n",
    "            [item.replace(item, \"i wish\") for item in new_winter if len(item) <= 3]\n",
    "            winter_line = glue.join(new_winter)\n",
    "            print(winter_line)"
   ]
  }
 ],
 "metadata": {
  "kernelspec": {
   "display_name": "Python 3",
   "language": "python",
   "name": "python3"
  },
  "language_info": {
   "codemirror_mode": {
    "name": "ipython",
    "version": 3
   },
   "file_extension": ".py",
   "mimetype": "text/x-python",
   "name": "python",
   "nbconvert_exporter": "python",
   "pygments_lexer": "ipython3",
   "version": "3.7.1"
  }
 },
 "nbformat": 4,
 "nbformat_minor": 2
}
